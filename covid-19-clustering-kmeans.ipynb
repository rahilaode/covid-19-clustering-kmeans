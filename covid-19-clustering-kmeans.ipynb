{
 "cells": [
  {
   "cell_type": "code",
   "execution_count": 1,
   "metadata": {},
   "outputs": [],
   "source": [
    "import pandas as pd\n",
    "import numpy as numpy\n",
    "import matplotlib.pyplot as plt  \n",
    "import seaborn as sns "
   ]
  },
  {
   "cell_type": "code",
   "execution_count": 2,
   "metadata": {},
   "outputs": [],
   "source": [
    "df = pd.read_csv(\"covid_19_data.csv\")"
   ]
  },
  {
   "cell_type": "markdown",
   "metadata": {},
   "source": [
    "## Data Cleaning and Pre-Processing"
   ]
  },
  {
   "cell_type": "code",
   "execution_count": 3,
   "metadata": {},
   "outputs": [
    {
     "data": {
      "text/html": [
       "<div>\n",
       "<style scoped>\n",
       "    .dataframe tbody tr th:only-of-type {\n",
       "        vertical-align: middle;\n",
       "    }\n",
       "\n",
       "    .dataframe tbody tr th {\n",
       "        vertical-align: top;\n",
       "    }\n",
       "\n",
       "    .dataframe thead th {\n",
       "        text-align: right;\n",
       "    }\n",
       "</style>\n",
       "<table border=\"1\" class=\"dataframe\">\n",
       "  <thead>\n",
       "    <tr style=\"text-align: right;\">\n",
       "      <th></th>\n",
       "      <th>SNo</th>\n",
       "      <th>ObservationDate</th>\n",
       "      <th>Province/State</th>\n",
       "      <th>Country/Region</th>\n",
       "      <th>Last Update</th>\n",
       "      <th>Confirmed</th>\n",
       "      <th>Deaths</th>\n",
       "      <th>Recovered</th>\n",
       "    </tr>\n",
       "  </thead>\n",
       "  <tbody>\n",
       "    <tr>\n",
       "      <th>0</th>\n",
       "      <td>1</td>\n",
       "      <td>01/22/2020</td>\n",
       "      <td>Anhui</td>\n",
       "      <td>Mainland China</td>\n",
       "      <td>1/22/2020 17:00</td>\n",
       "      <td>1.0</td>\n",
       "      <td>0.0</td>\n",
       "      <td>0.0</td>\n",
       "    </tr>\n",
       "    <tr>\n",
       "      <th>1</th>\n",
       "      <td>2</td>\n",
       "      <td>01/22/2020</td>\n",
       "      <td>Beijing</td>\n",
       "      <td>Mainland China</td>\n",
       "      <td>1/22/2020 17:00</td>\n",
       "      <td>14.0</td>\n",
       "      <td>0.0</td>\n",
       "      <td>0.0</td>\n",
       "    </tr>\n",
       "    <tr>\n",
       "      <th>2</th>\n",
       "      <td>3</td>\n",
       "      <td>01/22/2020</td>\n",
       "      <td>Chongqing</td>\n",
       "      <td>Mainland China</td>\n",
       "      <td>1/22/2020 17:00</td>\n",
       "      <td>6.0</td>\n",
       "      <td>0.0</td>\n",
       "      <td>0.0</td>\n",
       "    </tr>\n",
       "    <tr>\n",
       "      <th>3</th>\n",
       "      <td>4</td>\n",
       "      <td>01/22/2020</td>\n",
       "      <td>Fujian</td>\n",
       "      <td>Mainland China</td>\n",
       "      <td>1/22/2020 17:00</td>\n",
       "      <td>1.0</td>\n",
       "      <td>0.0</td>\n",
       "      <td>0.0</td>\n",
       "    </tr>\n",
       "    <tr>\n",
       "      <th>4</th>\n",
       "      <td>5</td>\n",
       "      <td>01/22/2020</td>\n",
       "      <td>Gansu</td>\n",
       "      <td>Mainland China</td>\n",
       "      <td>1/22/2020 17:00</td>\n",
       "      <td>0.0</td>\n",
       "      <td>0.0</td>\n",
       "      <td>0.0</td>\n",
       "    </tr>\n",
       "  </tbody>\n",
       "</table>\n",
       "</div>"
      ],
      "text/plain": [
       "   SNo ObservationDate Province/State  Country/Region      Last Update  \\\n",
       "0    1      01/22/2020          Anhui  Mainland China  1/22/2020 17:00   \n",
       "1    2      01/22/2020        Beijing  Mainland China  1/22/2020 17:00   \n",
       "2    3      01/22/2020      Chongqing  Mainland China  1/22/2020 17:00   \n",
       "3    4      01/22/2020         Fujian  Mainland China  1/22/2020 17:00   \n",
       "4    5      01/22/2020          Gansu  Mainland China  1/22/2020 17:00   \n",
       "\n",
       "   Confirmed  Deaths  Recovered  \n",
       "0        1.0     0.0        0.0  \n",
       "1       14.0     0.0        0.0  \n",
       "2        6.0     0.0        0.0  \n",
       "3        1.0     0.0        0.0  \n",
       "4        0.0     0.0        0.0  "
      ]
     },
     "execution_count": 3,
     "metadata": {},
     "output_type": "execute_result"
    }
   ],
   "source": [
    "df.head()"
   ]
  },
  {
   "cell_type": "code",
   "execution_count": 4,
   "metadata": {},
   "outputs": [
    {
     "name": "stdout",
     "output_type": "stream",
     "text": [
      "<class 'pandas.core.frame.DataFrame'>\n",
      "RangeIndex: 306429 entries, 0 to 306428\n",
      "Data columns (total 8 columns):\n",
      " #   Column           Non-Null Count   Dtype  \n",
      "---  ------           --------------   -----  \n",
      " 0   SNo              306429 non-null  int64  \n",
      " 1   ObservationDate  306429 non-null  object \n",
      " 2   Province/State   228329 non-null  object \n",
      " 3   Country/Region   306429 non-null  object \n",
      " 4   Last Update      306429 non-null  object \n",
      " 5   Confirmed        306429 non-null  float64\n",
      " 6   Deaths           306429 non-null  float64\n",
      " 7   Recovered        306429 non-null  float64\n",
      "dtypes: float64(3), int64(1), object(4)\n",
      "memory usage: 18.7+ MB\n"
     ]
    }
   ],
   "source": [
    "df.info()"
   ]
  },
  {
   "cell_type": "code",
   "execution_count": 5,
   "metadata": {},
   "outputs": [],
   "source": [
    "#drop unnecessary columns\n",
    "df = df.drop(['SNo', 'ObservationDate', 'Last Update'], axis=1)"
   ]
  },
  {
   "cell_type": "code",
   "execution_count": 6,
   "metadata": {},
   "outputs": [],
   "source": [
    "#SUM Confirmed, Deaths, and Recovered values by Country Column\n",
    "df = df.groupby(['Country/Region']).sum().reset_index()"
   ]
  },
  {
   "cell_type": "code",
   "execution_count": 7,
   "metadata": {},
   "outputs": [
    {
     "data": {
      "text/html": [
       "<div>\n",
       "<style scoped>\n",
       "    .dataframe tbody tr th:only-of-type {\n",
       "        vertical-align: middle;\n",
       "    }\n",
       "\n",
       "    .dataframe tbody tr th {\n",
       "        vertical-align: top;\n",
       "    }\n",
       "\n",
       "    .dataframe thead th {\n",
       "        text-align: right;\n",
       "    }\n",
       "</style>\n",
       "<table border=\"1\" class=\"dataframe\">\n",
       "  <thead>\n",
       "    <tr style=\"text-align: right;\">\n",
       "      <th></th>\n",
       "      <th>Country/Region</th>\n",
       "      <th>Confirmed</th>\n",
       "      <th>Deaths</th>\n",
       "      <th>Recovered</th>\n",
       "    </tr>\n",
       "  </thead>\n",
       "  <tbody>\n",
       "    <tr>\n",
       "      <th>0</th>\n",
       "      <td>Azerbaijan</td>\n",
       "      <td>1.0</td>\n",
       "      <td>0.0</td>\n",
       "      <td>0.0</td>\n",
       "    </tr>\n",
       "    <tr>\n",
       "      <th>1</th>\n",
       "      <td>('St. Martin',)</td>\n",
       "      <td>2.0</td>\n",
       "      <td>0.0</td>\n",
       "      <td>0.0</td>\n",
       "    </tr>\n",
       "    <tr>\n",
       "      <th>2</th>\n",
       "      <td>Afghanistan</td>\n",
       "      <td>17026442.0</td>\n",
       "      <td>669075.0</td>\n",
       "      <td>13464399.0</td>\n",
       "    </tr>\n",
       "    <tr>\n",
       "      <th>3</th>\n",
       "      <td>Albania</td>\n",
       "      <td>19768869.0</td>\n",
       "      <td>375955.0</td>\n",
       "      <td>13945256.0</td>\n",
       "    </tr>\n",
       "    <tr>\n",
       "      <th>4</th>\n",
       "      <td>Algeria</td>\n",
       "      <td>27684358.0</td>\n",
       "      <td>834464.0</td>\n",
       "      <td>18959299.0</td>\n",
       "    </tr>\n",
       "  </tbody>\n",
       "</table>\n",
       "</div>"
      ],
      "text/plain": [
       "    Country/Region   Confirmed    Deaths   Recovered\n",
       "0       Azerbaijan         1.0       0.0         0.0\n",
       "1  ('St. Martin',)         2.0       0.0         0.0\n",
       "2      Afghanistan  17026442.0  669075.0  13464399.0\n",
       "3          Albania  19768869.0  375955.0  13945256.0\n",
       "4          Algeria  27684358.0  834464.0  18959299.0"
      ]
     },
     "execution_count": 7,
     "metadata": {},
     "output_type": "execute_result"
    }
   ],
   "source": [
    "df.head()"
   ]
  },
  {
   "cell_type": "code",
   "execution_count": 8,
   "metadata": {},
   "outputs": [
    {
     "name": "stdout",
     "output_type": "stream",
     "text": [
      "<class 'pandas.core.frame.DataFrame'>\n",
      "RangeIndex: 229 entries, 0 to 228\n",
      "Data columns (total 4 columns):\n",
      " #   Column          Non-Null Count  Dtype  \n",
      "---  ------          --------------  -----  \n",
      " 0   Country/Region  229 non-null    object \n",
      " 1   Confirmed       229 non-null    float64\n",
      " 2   Deaths          229 non-null    float64\n",
      " 3   Recovered       229 non-null    float64\n",
      "dtypes: float64(3), object(1)\n",
      "memory usage: 7.3+ KB\n"
     ]
    }
   ],
   "source": [
    "df.info()"
   ]
  },
  {
   "cell_type": "markdown",
   "metadata": {},
   "source": [
    "## Exploratory Data Analiysis"
   ]
  },
  {
   "cell_type": "code",
   "execution_count": 9,
   "metadata": {},
   "outputs": [
    {
     "name": "stdout",
     "output_type": "stream",
     "text": [
      "<class 'pandas.core.frame.DataFrame'>\n",
      "RangeIndex: 229 entries, 0 to 228\n",
      "Data columns (total 4 columns):\n",
      " #   Column          Non-Null Count  Dtype  \n",
      "---  ------          --------------  -----  \n",
      " 0   Country/Region  229 non-null    object \n",
      " 1   Confirmed       229 non-null    float64\n",
      " 2   Deaths          229 non-null    float64\n",
      " 3   Recovered       229 non-null    float64\n",
      "dtypes: float64(3), object(1)\n",
      "memory usage: 7.3+ KB\n"
     ]
    }
   ],
   "source": [
    "df.info()"
   ]
  },
  {
   "cell_type": "code",
   "execution_count": 10,
   "metadata": {},
   "outputs": [
    {
     "data": {
      "text/html": [
       "<div>\n",
       "<style scoped>\n",
       "    .dataframe tbody tr th:only-of-type {\n",
       "        vertical-align: middle;\n",
       "    }\n",
       "\n",
       "    .dataframe tbody tr th {\n",
       "        vertical-align: top;\n",
       "    }\n",
       "\n",
       "    .dataframe thead th {\n",
       "        text-align: right;\n",
       "    }\n",
       "</style>\n",
       "<table border=\"1\" class=\"dataframe\">\n",
       "  <thead>\n",
       "    <tr style=\"text-align: right;\">\n",
       "      <th></th>\n",
       "      <th>Confirmed</th>\n",
       "      <th>Deaths</th>\n",
       "      <th>Recovered</th>\n",
       "    </tr>\n",
       "  </thead>\n",
       "  <tbody>\n",
       "    <tr>\n",
       "      <th>count</th>\n",
       "      <td>2.290000e+02</td>\n",
       "      <td>2.290000e+02</td>\n",
       "      <td>2.290000e+02</td>\n",
       "    </tr>\n",
       "    <tr>\n",
       "      <th>mean</th>\n",
       "      <td>1.146378e+08</td>\n",
       "      <td>2.724948e+06</td>\n",
       "      <td>6.746829e+07</td>\n",
       "    </tr>\n",
       "    <tr>\n",
       "      <th>std</th>\n",
       "      <td>4.992496e+08</td>\n",
       "      <td>1.087101e+07</td>\n",
       "      <td>2.634108e+08</td>\n",
       "    </tr>\n",
       "    <tr>\n",
       "      <th>min</th>\n",
       "      <td>0.000000e+00</td>\n",
       "      <td>0.000000e+00</td>\n",
       "      <td>0.000000e+00</td>\n",
       "    </tr>\n",
       "    <tr>\n",
       "      <th>25%</th>\n",
       "      <td>3.644640e+05</td>\n",
       "      <td>4.305000e+03</td>\n",
       "      <td>2.626010e+05</td>\n",
       "    </tr>\n",
       "    <tr>\n",
       "      <th>50%</th>\n",
       "      <td>6.148539e+06</td>\n",
       "      <td>9.060000e+04</td>\n",
       "      <td>3.797948e+06</td>\n",
       "    </tr>\n",
       "    <tr>\n",
       "      <th>75%</th>\n",
       "      <td>5.016817e+07</td>\n",
       "      <td>8.344640e+05</td>\n",
       "      <td>3.710158e+07</td>\n",
       "    </tr>\n",
       "    <tr>\n",
       "      <th>max</th>\n",
       "      <td>6.049146e+09</td>\n",
       "      <td>1.233038e+08</td>\n",
       "      <td>2.900590e+09</td>\n",
       "    </tr>\n",
       "  </tbody>\n",
       "</table>\n",
       "</div>"
      ],
      "text/plain": [
       "          Confirmed        Deaths     Recovered\n",
       "count  2.290000e+02  2.290000e+02  2.290000e+02\n",
       "mean   1.146378e+08  2.724948e+06  6.746829e+07\n",
       "std    4.992496e+08  1.087101e+07  2.634108e+08\n",
       "min    0.000000e+00  0.000000e+00  0.000000e+00\n",
       "25%    3.644640e+05  4.305000e+03  2.626010e+05\n",
       "50%    6.148539e+06  9.060000e+04  3.797948e+06\n",
       "75%    5.016817e+07  8.344640e+05  3.710158e+07\n",
       "max    6.049146e+09  1.233038e+08  2.900590e+09"
      ]
     },
     "execution_count": 10,
     "metadata": {},
     "output_type": "execute_result"
    }
   ],
   "source": [
    "df.describe()"
   ]
  },
  {
   "cell_type": "code",
   "execution_count": 11,
   "metadata": {},
   "outputs": [
    {
     "data": {
      "text/html": [
       "<div>\n",
       "<style scoped>\n",
       "    .dataframe tbody tr th:only-of-type {\n",
       "        vertical-align: middle;\n",
       "    }\n",
       "\n",
       "    .dataframe tbody tr th {\n",
       "        vertical-align: top;\n",
       "    }\n",
       "\n",
       "    .dataframe thead th {\n",
       "        text-align: right;\n",
       "    }\n",
       "</style>\n",
       "<table border=\"1\" class=\"dataframe\">\n",
       "  <thead>\n",
       "    <tr style=\"text-align: right;\">\n",
       "      <th></th>\n",
       "      <th>Country/Region</th>\n",
       "    </tr>\n",
       "  </thead>\n",
       "  <tbody>\n",
       "    <tr>\n",
       "      <th>count</th>\n",
       "      <td>229</td>\n",
       "    </tr>\n",
       "    <tr>\n",
       "      <th>unique</th>\n",
       "      <td>229</td>\n",
       "    </tr>\n",
       "    <tr>\n",
       "      <th>top</th>\n",
       "      <td>Azerbaijan</td>\n",
       "    </tr>\n",
       "    <tr>\n",
       "      <th>freq</th>\n",
       "      <td>1</td>\n",
       "    </tr>\n",
       "  </tbody>\n",
       "</table>\n",
       "</div>"
      ],
      "text/plain": [
       "       Country/Region\n",
       "count             229\n",
       "unique            229\n",
       "top        Azerbaijan\n",
       "freq                1"
      ]
     },
     "execution_count": 11,
     "metadata": {},
     "output_type": "execute_result"
    }
   ],
   "source": [
    "df.describe(include='O')"
   ]
  },
  {
   "cell_type": "code",
   "execution_count": 13,
   "metadata": {},
   "outputs": [
    {
     "name": "stdout",
     "output_type": "stream",
     "text": [
      "Unique value from column \"Country/Region\" is :\n",
      "[' Azerbaijan' \"('St. Martin',)\" 'Afghanistan' 'Albania' 'Algeria'\n",
      " 'Andorra' 'Angola' 'Antigua and Barbuda' 'Argentina' 'Armenia' 'Aruba'\n",
      " 'Australia' 'Austria' 'Azerbaijan' 'Bahamas' 'Bahamas, The' 'Bahrain'\n",
      " 'Bangladesh' 'Barbados' 'Belarus' 'Belgium' 'Belize' 'Benin' 'Bhutan'\n",
      " 'Bolivia' 'Bosnia and Herzegovina' 'Botswana' 'Brazil' 'Brunei'\n",
      " 'Bulgaria' 'Burkina Faso' 'Burma' 'Burundi' 'Cabo Verde' 'Cambodia'\n",
      " 'Cameroon' 'Canada' 'Cape Verde' 'Cayman Islands'\n",
      " 'Central African Republic' 'Chad' 'Channel Islands' 'Chile' 'China'\n",
      " 'Colombia' 'Comoros' 'Congo (Brazzaville)' 'Congo (Kinshasa)'\n",
      " 'Costa Rica' 'Croatia' 'Cuba' 'Curacao' 'Cyprus' 'Czech Republic'\n",
      " 'Denmark' 'Diamond Princess' 'Djibouti' 'Dominica' 'Dominican Republic'\n",
      " 'East Timor' 'Ecuador' 'Egypt' 'El Salvador' 'Equatorial Guinea'\n",
      " 'Eritrea' 'Estonia' 'Eswatini' 'Ethiopia' 'Faroe Islands' 'Fiji'\n",
      " 'Finland' 'France' 'French Guiana' 'Gabon' 'Gambia' 'Gambia, The'\n",
      " 'Georgia' 'Germany' 'Ghana' 'Gibraltar' 'Greece' 'Greenland' 'Grenada'\n",
      " 'Guadeloupe' 'Guam' 'Guatemala' 'Guernsey' 'Guinea' 'Guinea-Bissau'\n",
      " 'Guyana' 'Haiti' 'Holy See' 'Honduras' 'Hong Kong' 'Hungary' 'Iceland'\n",
      " 'India' 'Indonesia' 'Iran' 'Iraq' 'Ireland' 'Israel' 'Italy'\n",
      " 'Ivory Coast' 'Jamaica' 'Japan' 'Jersey' 'Jordan' 'Kazakhstan' 'Kenya'\n",
      " 'Kiribati' 'Kosovo' 'Kuwait' 'Kyrgyzstan' 'Laos' 'Latvia' 'Lebanon'\n",
      " 'Lesotho' 'Liberia' 'Libya' 'Liechtenstein' 'Lithuania' 'Luxembourg'\n",
      " 'MS Zaandam' 'Macau' 'Madagascar' 'Mainland China' 'Malawi' 'Malaysia'\n",
      " 'Maldives' 'Mali' 'Malta' 'Marshall Islands' 'Martinique' 'Mauritania'\n",
      " 'Mauritius' 'Mayotte' 'Mexico' 'Micronesia' 'Moldova' 'Monaco' 'Mongolia'\n",
      " 'Montenegro' 'Morocco' 'Mozambique' 'Namibia' 'Nepal' 'Netherlands'\n",
      " 'New Zealand' 'Nicaragua' 'Niger' 'Nigeria' 'North Ireland'\n",
      " 'North Macedonia' 'Norway' 'Oman' 'Others' 'Pakistan' 'Palestine'\n",
      " 'Panama' 'Papua New Guinea' 'Paraguay' 'Peru' 'Philippines' 'Poland'\n",
      " 'Portugal' 'Puerto Rico' 'Qatar' 'Republic of Ireland'\n",
      " 'Republic of the Congo' 'Reunion' 'Romania' 'Russia' 'Rwanda'\n",
      " 'Saint Barthelemy' 'Saint Kitts and Nevis' 'Saint Lucia'\n",
      " 'Saint Vincent and the Grenadines' 'Samoa' 'San Marino'\n",
      " 'Sao Tome and Principe' 'Saudi Arabia' 'Senegal' 'Serbia' 'Seychelles'\n",
      " 'Sierra Leone' 'Singapore' 'Slovakia' 'Slovenia' 'Solomon Islands'\n",
      " 'Somalia' 'South Africa' 'South Korea' 'South Sudan' 'Spain' 'Sri Lanka'\n",
      " 'St. Martin' 'Sudan' 'Suriname' 'Sweden' 'Switzerland' 'Syria' 'Taiwan'\n",
      " 'Tajikistan' 'Tanzania' 'Thailand' 'The Bahamas' 'The Gambia'\n",
      " 'Timor-Leste' 'Togo' 'Trinidad and Tobago' 'Tunisia' 'Turkey' 'UK' 'US'\n",
      " 'Uganda' 'Ukraine' 'United Arab Emirates' 'Uruguay' 'Uzbekistan'\n",
      " 'Vanuatu' 'Vatican City' 'Venezuela' 'Vietnam' 'West Bank and Gaza'\n",
      " 'Yemen' 'Zambia' 'Zimbabwe' 'occupied Palestinian territory']\n",
      "total : 229\n",
      "\n"
     ]
    }
   ],
   "source": [
    "col_str = ['Country/Region']\n",
    "for i in col_str:\n",
    "  print('Unique value from column \"{a}\" is :'.format(a=i))\n",
    "  print(df[i].unique())\n",
    "  print('total : {}'.format(len(df[i].unique())))\n",
    "  print('')"
   ]
  },
  {
   "cell_type": "code",
   "execution_count": 14,
   "metadata": {},
   "outputs": [
    {
     "name": "stderr",
     "output_type": "stream",
     "text": [
      "c:\\Users\\laode\\AppData\\Local\\Programs\\Python\\Python310\\lib\\site-packages\\seaborn\\_decorators.py:36: FutureWarning: Pass the following variable as a keyword arg: x. From version 0.12, the only valid positional argument will be `data`, and passing other arguments without an explicit keyword will result in an error or misinterpretation.\n",
      "  warnings.warn(\n",
      "c:\\Users\\laode\\AppData\\Local\\Programs\\Python\\Python310\\lib\\site-packages\\seaborn\\distributions.py:2619: FutureWarning: `distplot` is a deprecated function and will be removed in a future version. Please adapt your code to use either `displot` (a figure-level function with similar flexibility) or `histplot` (an axes-level function for histograms).\n",
      "  warnings.warn(msg, FutureWarning)\n",
      "c:\\Users\\laode\\AppData\\Local\\Programs\\Python\\Python310\\lib\\site-packages\\seaborn\\_decorators.py:36: FutureWarning: Pass the following variable as a keyword arg: x. From version 0.12, the only valid positional argument will be `data`, and passing other arguments without an explicit keyword will result in an error or misinterpretation.\n",
      "  warnings.warn(\n",
      "c:\\Users\\laode\\AppData\\Local\\Programs\\Python\\Python310\\lib\\site-packages\\seaborn\\distributions.py:2619: FutureWarning: `distplot` is a deprecated function and will be removed in a future version. Please adapt your code to use either `displot` (a figure-level function with similar flexibility) or `histplot` (an axes-level function for histograms).\n",
      "  warnings.warn(msg, FutureWarning)\n",
      "c:\\Users\\laode\\AppData\\Local\\Programs\\Python\\Python310\\lib\\site-packages\\seaborn\\_decorators.py:36: FutureWarning: Pass the following variable as a keyword arg: x. From version 0.12, the only valid positional argument will be `data`, and passing other arguments without an explicit keyword will result in an error or misinterpretation.\n",
      "  warnings.warn(\n",
      "c:\\Users\\laode\\AppData\\Local\\Programs\\Python\\Python310\\lib\\site-packages\\seaborn\\distributions.py:2619: FutureWarning: `distplot` is a deprecated function and will be removed in a future version. Please adapt your code to use either `displot` (a figure-level function with similar flexibility) or `histplot` (an axes-level function for histograms).\n",
      "  warnings.warn(msg, FutureWarning)\n"
     ]
    },
    {
     "name": "stdout",
     "output_type": "stream",
     "text": [
      "  adjustable: {'box', 'datalim'}\n",
      "  agg_filter: a filter function, which takes a (m, n, 3) float array and a dpi value, and returns a (m, n, 3) array\n",
      "  alpha: scalar or None\n",
      "  anchor: (float, float) or {'C', 'SW', 'S', 'SE', 'E', 'NE', ...}\n",
      "  animated: bool\n",
      "  aspect: {'auto', 'equal'} or float\n",
      "  autoscale_on: bool\n",
      "  autoscalex_on: bool\n",
      "  autoscaley_on: bool\n",
      "  axes_locator: Callable[[Axes, Renderer], Bbox]\n",
      "  axisbelow: bool or 'line'\n",
      "  box_aspect: float or None\n",
      "  clip_box: `.Bbox`\n",
      "  clip_on: bool\n",
      "  clip_path: Patch or (Path, Transform) or None\n",
      "  facecolor or fc: color\n",
      "  figure: `.Figure`\n",
      "  frame_on: bool\n",
      "  gid: str\n",
      "  in_layout: bool\n",
      "  label: object\n",
      "  navigate: bool\n",
      "  navigate_mode: unknown\n",
      "  path_effects: `.AbstractPathEffect`\n",
      "  picker: None or bool or float or callable\n",
      "  position: [left, bottom, width, height] or `~matplotlib.transforms.Bbox`\n",
      "  prop_cycle: unknown\n",
      "  rasterization_zorder: float or None\n",
      "  rasterized: bool\n",
      "  sketch_params: (scale: float, length: float, randomness: float)\n",
      "  snap: bool or None\n",
      "  subplotspec: unknown\n",
      "  title: str\n",
      "  transform: `.Transform`\n",
      "  url: str\n",
      "  visible: bool\n",
      "  xbound: unknown\n",
      "  xlabel: str\n",
      "  xlim: (bottom: float, top: float)\n",
      "  xmargin: float greater than -0.5\n",
      "  xscale: {\"linear\", \"log\", \"symlog\", \"logit\", ...} or `.ScaleBase`\n",
      "  xticklabels: unknown\n",
      "  xticks: unknown\n",
      "  ybound: unknown\n",
      "  ylabel: str\n",
      "  ylim: (bottom: float, top: float)\n",
      "  ymargin: float greater than -0.5\n",
      "  yscale: {\"linear\", \"log\", \"symlog\", \"logit\", ...} or `.ScaleBase`\n",
      "  yticklabels: unknown\n",
      "  yticks: unknown\n",
      "  zorder: float\n"
     ]
    },
    {
     "data": {
      "image/png": "[encoded data removed]",
      "text/plain": [
       "<Figure size 720x648 with 6 Axes>"
      ]
     },
     "metadata": {
      "needs_background": "light"
     },
     "output_type": "display_data"
    }
   ],
   "source": [
    "sns.set(style='white')\n",
    "  \n",
    "def observasi_num(features):  \n",
    "    fig, axs = plt.subplots(3, 2, figsize=(10, 9))\n",
    "    for i, kol in enumerate(features):\n",
    "\t    sns.boxplot(df[kol], ax = axs[i][0])\n",
    "\t    sns.distplot(df[kol], ax = axs[i][1])   \n",
    "\t    axs[i][0].set_title('mean = %.2f\\n median = %.2f\\n std = %.2f'%(df[kol].mean(), df[kol].median(), df[kol].std()))\n",
    "    plt.setp(axs)\n",
    "    plt.tight_layout()\n",
    "    plt.show()  \n",
    "   \n",
    "numeric_column = ['Confirmed','Deaths', 'Recovered']\n",
    "observasi_num(numeric_column)"
   ]
  },
  {
   "cell_type": "code",
   "execution_count": 15,
   "metadata": {},
   "outputs": [
    {
     "data": {
      "text/plain": [
       "<seaborn.axisgrid.PairGrid at 0x2401cae2170>"
      ]
     },
     "execution_count": 15,
     "metadata": {},
     "output_type": "execute_result"
    },
    {
     "data": {
      "image/png": "[encoded data removed]",
      "text/plain": [
       "<Figure size 540x540 with 12 Axes>"
      ]
     },
     "metadata": {
      "needs_background": "light"
     },
     "output_type": "display_data"
    }
   ],
   "source": [
    "sns.pairplot(df)"
   ]
  },
  {
   "cell_type": "markdown",
   "metadata": {},
   "source": [
    "## Feature Scaling"
   ]
  },
  {
   "cell_type": "code",
   "execution_count": 17,
   "metadata": {},
   "outputs": [
    {
     "name": "stdout",
     "output_type": "stream",
     "text": [
      "Statistics before scaling\n",
      "          Confirmed        Deaths     Recovered\n",
      "count  2.290000e+02  2.290000e+02  2.290000e+02\n",
      "mean   1.146378e+08  2.724948e+06  6.746829e+07\n",
      "std    4.992496e+08  1.087101e+07  2.634108e+08\n",
      "min    0.000000e+00  0.000000e+00  0.000000e+00\n",
      "25%    3.644640e+05  4.305000e+03  2.626010e+05\n",
      "50%    6.148539e+06  9.060000e+04  3.797948e+06\n",
      "75%    5.016817e+07  8.344640e+05  3.710158e+07\n",
      "max    6.049146e+09  1.233038e+08  2.900590e+09\n",
      "\n",
      "\n",
      "Scaling result example\n",
      "      Confirmed    Deaths  Recovered\n",
      "0  1.653126e-10  0.000000   0.000000\n",
      "1  3.306252e-10  0.000000   0.000000\n",
      "2  2.814685e-03  0.005426   0.004642\n",
      "3  3.268043e-03  0.003049   0.004808\n",
      "4  4.576573e-03  0.006768   0.006536\n",
      "\n",
      "\n",
      "Statistics after scaling\n",
      "        Confirmed      Deaths   Recovered\n",
      "count  229.000000  229.000000  229.000000\n",
      "mean     0.018951    0.022099    0.023260\n",
      "std      0.082532    0.088164    0.090813\n",
      "min      0.000000    0.000000    0.000000\n",
      "25%      0.000060    0.000035    0.000091\n",
      "50%      0.001016    0.000735    0.001309\n",
      "75%      0.008293    0.006768    0.012791\n",
      "max      1.000000    1.000000    1.000000\n"
     ]
    }
   ],
   "source": [
    "from sklearn.preprocessing import MinMaxScaler\n",
    "\n",
    "numeric_columns = ['Confirmed','Deaths', 'Recovered']\n",
    "\n",
    "# Statistics before scaling\n",
    "print('Statistics before scaling')\n",
    "print(df[numeric_columns].describe())\n",
    "print('\\n')\n",
    "# Scalling\n",
    "df_scalled = MinMaxScaler().fit_transform(df[numeric_columns])\n",
    "\n",
    "# create dataframe\n",
    "df_scalled = pd.DataFrame(data=df_scalled, index=df.index, columns=df[numeric_columns].columns)\n",
    "\n",
    "# Sample data content and summary statistics\n",
    "print('Scaling result example')\n",
    "print(df_scalled.head())\n",
    "print('\\n')\n",
    "\n",
    "print('Statistics after scaling')\n",
    "print(df_scalled.describe())"
   ]
  },
  {
   "cell_type": "markdown",
   "metadata": {},
   "source": [
    "## Modeling"
   ]
  },
  {
   "cell_type": "code",
   "execution_count": 19,
   "metadata": {},
   "outputs": [],
   "source": [
    "from sklearn.cluster import KMeans\n",
    "from matplotlib import pyplot as plt\n",
    "from yellowbrick.cluster import KElbowVisualizer\n",
    "%matplotlib inline"
   ]
  },
  {
   "cell_type": "code",
   "execution_count": 20,
   "metadata": {},
   "outputs": [
    {
     "data": {
      "image/png": "[encoded data removed]",
      "text/plain": [
       "<Figure size 432x288 with 2 Axes>"
      ]
     },
     "metadata": {},
     "output_type": "display_data"
    },
    {
     "data": {
      "text/plain": [
       "<AxesSubplot:title={'center':'Distortion Score Elbow for KMeans Clustering'}, xlabel='k', ylabel='distortion score'>"
      ]
     },
     "execution_count": 20,
     "metadata": {},
     "output_type": "execute_result"
    }
   ],
   "source": [
    "#Find number of K optimal using elbow method\n",
    "km = KMeans()\n",
    "visualizer = KElbowVisualizer(km, k=(2,10))\n",
    "visualizer.fit(df_scalled[['Confirmed','Deaths', 'Recovered']])\n",
    "visualizer.show() "
   ]
  },
  {
   "cell_type": "code",
   "execution_count": 22,
   "metadata": {},
   "outputs": [
    {
     "name": "stdout",
     "output_type": "stream",
     "text": [
      "For 2 clusters, inersia value = 1.5479504341649066\n",
      "For 3 clusters, inersia value = 0.8371546163126469\n",
      "For 4 clusters, inersia value = 0.29768874774097526\n",
      "For 5 clusters, inersia value = 0.21602656766597267\n",
      "For 6 clusters, inersia value = 0.16371251911602577\n",
      "For 7 clusters, inersia value = 0.11259967214655138\n",
      "For 8 clusters, inersia value = 0.08289919095259354\n",
      "For 9 clusters, inersia value = 0.05706839002396794\n",
      "========================================\n",
      "For 2 clusters, silhouette score = 0.9561283458663334\n",
      "For 3 clusters, silhouette score = 0.9542139646510039\n",
      "For 4 clusters, silhouette score = 0.8738259082028882\n",
      "For 5 clusters, silhouette score = 0.864700624504498\n",
      "For 6 clusters, silhouette score = 0.7916070313723216\n",
      "For 7 clusters, silhouette score = 0.7572740058068872\n",
      "For 8 clusters, silhouette score = 0.7594369782927054\n",
      "For 9 clusters, silhouette score = 0.773169813507773\n"
     ]
    },
    {
     "data": {
      "image/png": "[encoded data removed]",
      "text/plain": [
       "<Figure size 432x288 with 1 Axes>"
      ]
     },
     "metadata": {
      "needs_background": "light"
     },
     "output_type": "display_data"
    },
    {
     "data": {
      "image/png": "[encoded data removed]",
      "text/plain": [
       "<Figure size 432x288 with 1 Axes>"
      ]
     },
     "metadata": {
      "needs_background": "light"
     },
     "output_type": "display_data"
    }
   ],
   "source": [
    "#See inertia value for each number of K\n",
    "inertia = []\n",
    "k_rng = range(2,10)\n",
    "for k in k_rng:\n",
    "    km = KMeans(n_clusters=k)\n",
    "    km.fit(df_scalled[['Confirmed','Deaths', 'Recovered']])\n",
    "    inertia.append(km.inertia_)\n",
    "    print(\"For {} clusters, inersia value = {}\".format(k, km.inertia_))\n",
    "    \n",
    "print(\"========================================\")\n",
    "\n",
    "#See silhoutte score for each number of K\n",
    "from sklearn.metrics import silhouette_samples, silhouette_score\n",
    "sh_list_mea = []\n",
    "k_rng = range(2,10)\n",
    "for num_clusters in k_rng:\n",
    "    kmeans = KMeans(n_clusters=num_clusters)\n",
    "    cluster_labels = kmeans.fit_predict(df_scalled[['Confirmed','Deaths', 'Recovered']].values)\n",
    "   \n",
    "    score = silhouette_score(df_scalled[['Confirmed','Deaths', 'Recovered']].values, cluster_labels)\n",
    "    sh_list_mea.append(score)\n",
    "    print(\"For {} clusters, silhouette score = {}\".format(num_clusters, score))\n",
    "    \n",
    "plt.title(\"Silhoutte score for each number of K\")\n",
    "plt.xlabel('K')\n",
    "plt.ylabel('Silhoutte Score')\n",
    "plt.plot(k_rng,sh_list_mea)\n",
    "plt.show()\n",
    "\n",
    "plt.title(\"Inersia dan silhoutte score for each number of K\")\n",
    "plt.xlabel('K')\n",
    "plt.ylabel('Inertia (Red) & Silhoutte Score (Blue)')\n",
    "plt.plot(k_rng,inertia, color = 'r', linestyle = 'dashed')\n",
    "plt.plot(k_rng,sh_list_mea, color = 'b')\n",
    "plt.show()"
   ]
  },
  {
   "cell_type": "markdown",
   "metadata": {},
   "source": [
    "So, based on the elbow method, i chooses a value of 4 for the number of clusters with a silhouette score = 0.873825908028882"
   ]
  },
  {
   "cell_type": "code",
   "execution_count": 23,
   "metadata": {},
   "outputs": [
    {
     "data": {
      "text/plain": [
       "array([2, 2, 2, 2, 2, 2, 2, 2, 1, 2, 2, 2, 2, 2, 2, 2, 2, 2, 2, 2, 2, 2,\n",
       "       2, 2, 2, 2, 2, 3, 2, 2, 2, 2, 2, 2, 2, 2, 2, 2, 2, 2, 2, 2, 2, 2,\n",
       "       1, 2, 2, 2, 2, 2, 2, 2, 2, 2, 2, 2, 2, 2, 2, 2, 2, 2, 2, 2, 2, 2,\n",
       "       2, 2, 2, 2, 2, 1, 2, 2, 2, 2, 2, 1, 2, 2, 2, 2, 2, 2, 2, 2, 2, 2,\n",
       "       2, 2, 2, 2, 2, 2, 2, 2, 3, 2, 1, 2, 2, 2, 1, 2, 2, 2, 2, 2, 2, 2,\n",
       "       2, 2, 2, 2, 2, 2, 2, 2, 2, 2, 2, 2, 2, 2, 2, 2, 2, 2, 2, 2, 2, 2,\n",
       "       2, 2, 2, 2, 2, 1, 2, 2, 2, 2, 2, 2, 2, 2, 2, 2, 2, 2, 2, 2, 2, 2,\n",
       "       2, 2, 2, 2, 2, 2, 2, 2, 1, 2, 1, 2, 2, 2, 2, 2, 2, 2, 1, 2, 2, 2,\n",
       "       2, 2, 2, 2, 2, 2, 2, 2, 2, 2, 2, 2, 2, 2, 2, 1, 2, 2, 1, 2, 2, 2,\n",
       "       2, 2, 2, 2, 2, 2, 2, 2, 2, 2, 2, 2, 2, 2, 1, 1, 4, 2, 2, 2, 2, 2,\n",
       "       2, 2, 2, 2, 2, 2, 2, 2, 2])"
      ]
     },
     "execution_count": 23,
     "metadata": {},
     "output_type": "execute_result"
    }
   ],
   "source": [
    "#Create models for predict the cluster and arrays to store cluster predictions for each country\n",
    "km = KMeans(n_clusters=4, random_state = 42)\n",
    "y_predicted = km.fit_predict(df_scalled[['Confirmed','Deaths', 'Recovered']])\n",
    "#Add 1 to each cluster value, because the cluster starts from 0\n",
    "y_predicted = y_predicted + 1\n",
    "y_predicted"
   ]
  },
  {
   "cell_type": "code",
   "execution_count": 24,
   "metadata": {},
   "outputs": [
    {
     "data": {
      "text/html": [
       "<div>\n",
       "<style scoped>\n",
       "    .dataframe tbody tr th:only-of-type {\n",
       "        vertical-align: middle;\n",
       "    }\n",
       "\n",
       "    .dataframe tbody tr th {\n",
       "        vertical-align: top;\n",
       "    }\n",
       "\n",
       "    .dataframe thead th {\n",
       "        text-align: right;\n",
       "    }\n",
       "</style>\n",
       "<table border=\"1\" class=\"dataframe\">\n",
       "  <thead>\n",
       "    <tr style=\"text-align: right;\">\n",
       "      <th></th>\n",
       "      <th>Country/Region</th>\n",
       "      <th>Confirmed</th>\n",
       "      <th>Deaths</th>\n",
       "      <th>Recovered</th>\n",
       "      <th>Cluster</th>\n",
       "    </tr>\n",
       "  </thead>\n",
       "  <tbody>\n",
       "    <tr>\n",
       "      <th>0</th>\n",
       "      <td>Azerbaijan</td>\n",
       "      <td>1.0</td>\n",
       "      <td>0.0</td>\n",
       "      <td>0.0</td>\n",
       "      <td>2</td>\n",
       "    </tr>\n",
       "    <tr>\n",
       "      <th>1</th>\n",
       "      <td>('St. Martin',)</td>\n",
       "      <td>2.0</td>\n",
       "      <td>0.0</td>\n",
       "      <td>0.0</td>\n",
       "      <td>2</td>\n",
       "    </tr>\n",
       "    <tr>\n",
       "      <th>2</th>\n",
       "      <td>Afghanistan</td>\n",
       "      <td>17026442.0</td>\n",
       "      <td>669075.0</td>\n",
       "      <td>13464399.0</td>\n",
       "      <td>2</td>\n",
       "    </tr>\n",
       "    <tr>\n",
       "      <th>3</th>\n",
       "      <td>Albania</td>\n",
       "      <td>19768869.0</td>\n",
       "      <td>375955.0</td>\n",
       "      <td>13945256.0</td>\n",
       "      <td>2</td>\n",
       "    </tr>\n",
       "    <tr>\n",
       "      <th>4</th>\n",
       "      <td>Algeria</td>\n",
       "      <td>27684358.0</td>\n",
       "      <td>834464.0</td>\n",
       "      <td>18959299.0</td>\n",
       "      <td>2</td>\n",
       "    </tr>\n",
       "  </tbody>\n",
       "</table>\n",
       "</div>"
      ],
      "text/plain": [
       "    Country/Region   Confirmed    Deaths   Recovered Cluster\n",
       "0       Azerbaijan         1.0       0.0         0.0       2\n",
       "1  ('St. Martin',)         2.0       0.0         0.0       2\n",
       "2      Afghanistan  17026442.0  669075.0  13464399.0       2\n",
       "3          Albania  19768869.0  375955.0  13945256.0       2\n",
       "4          Algeria  27684358.0  834464.0  18959299.0       2"
      ]
     },
     "execution_count": 24,
     "metadata": {},
     "output_type": "execute_result"
    }
   ],
   "source": [
    "#Added column 'Cluster' to df dataframe of predicted cluster value\n",
    "df_kmeans = df.copy()\n",
    "df_kmeans['Cluster']=y_predicted\n",
    "#Change the data type of cluster column to object\n",
    "df_kmeans['Cluster'] = df_kmeans['Cluster'].astype('str')\n",
    "df_kmeans.head()"
   ]
  },
  {
   "cell_type": "code",
   "execution_count": 25,
   "metadata": {},
   "outputs": [
    {
     "data": {
      "application/vnd.plotly.v1+json": {
       "config": {
        "plotlyServerURL": "https://plot.ly"
       },
       "data": [
        {
         "hovertemplate": "Cluster=2<br>Confirmed=%{x}<br>Deaths=%{y}<br>Recovered=%{z}<extra></extra>",
         "legendgroup": "2",
         "marker": {
          "color": "#636efa",
          "symbol": "circle"
         },
         "mode": "markers",
         "name": "2",
         "scene": "scene",
         "showlegend": true,
         "type": "scatter3d",
         "x": [
          1,
          2,
          17026442,
          19768869,
          27684358,
          2379802,
          4764863,
          143868,
          42536277,
          19,
          9447438,
          97965875,
          52366764,
          2139331,
          10,
          33934748,
          161494811,
          474762,
          65435028,
          179009886,
          2399352,
          1365462,
          196080,
          61346449,
          31257028,
          6063426,
          71229,
          56530042,
          2249316,
          27717649,
          492722,
          3941085,
          955901,
          11346589,
          193497537,
          1,
          3,
          1776825,
          883727,
          1,
          232444395,
          0,
          579705,
          2286750,
          6148539,
          47395838,
          50531146,
          11110101,
          2,
          7736086,
          237860726,
          42700338,
          306872,
          2387030,
          31141,
          57000335,
          1,
          74790536,
          50168167,
          14619435,
          1919781,
          522945,
          13834670,
          3401276,
          41388062,
          10,
          20720,
          13103437,
          117,
          4237601,
          1250677,
          4,
          51183744,
          20784664,
          7,
          44502618,
          3,
          30738,
          187,
          6,
          44774712,
          3,
          4860849,
          973695,
          2068280,
          3532804,
          8448,
          41138599,
          2655935,
          98903229,
          1729527,
          265186050,
          187310643,
          42974124,
          153263218,
          9253034,
          5774810,
          89378076,
          6,
          90344299,
          70060029,
          27728648,
          21,
          15865976,
          53341259,
          22692500,
          58871,
          15266130,
          71885997,
          1705201,
          576370,
          29458062,
          500670,
          36339959,
          12154223,
          3824,
          20605,
          6579780,
          40822596,
          5235180,
          53546912,
          5502303,
          2273550,
          4556210,
          804,
          172,
          4104867,
          235313,
          21,
          129,
          42907803,
          364464,
          2388966,
          14990089,
          104557135,
          9979000,
          7912632,
          67252242,
          234955991,
          836280,
          1929682,
          1047041,
          33407947,
          1,
          23650041,
          17283377,
          42831069,
          26228,
          165572396,
          86,
          73445278,
          886555,
          38225829,
          164420468,
          141962632,
          3,
          52791589,
          21,
          1,
          137,
          173082798,
          3770080,
          17,
          11211,
          502993,
          229517,
          481,
          851906,
          470914,
          123111168,
          7893507,
          95624419,
          608196,
          1008350,
          21476559,
          55789871,
          35538663,
          3818,
          2211790,
          20814483,
          1748600,
          15676007,
          2,
          7632455,
          2148896,
          142264880,
          115902800,
          3494790,
          339919,
          3988242,
          205081,
          7139288,
          3,
          1,
          183796,
          1691382,
          2119871,
          44779270,
          8016407,
          310910152,
          83739255,
          17112011,
          22207571,
          406,
          4,
          35958070,
          615984,
          41819444,
          962066,
          13493953,
          6484581,
          25
         ],
         "y": [
          0,
          0,
          669075,
          375955,
          834464,
          32100,
          116489,
          4059,
          770759,
          0,
          268435,
          1678309,
          705690,
          45743,
          0,
          124266,
          2369239,
          6612,
          488800,
          6292525,
          57538,
          19040,
          142,
          2989039,
          1191149,
          67635,
          1144,
          2186376,
          36179,
          617121,
          898,
          37708,
          5679,
          197906,
          5692896,
          0,
          0,
          22498,
          41453,
          0,
          5717374,
          0,
          19520,
          36012,
          164914,
          610944,
          1040275,
          89540,
          0,
          44993,
          3989185,
          515141,
          5553,
          25809,
          0,
          844835,
          0,
          4540233,
          2827664,
          433540,
          29917,
          1283,
          134847,
          106910,
          618948,
          0,
          620,
          205968,
          0,
          26593,
          39065,
          0,
          632004,
          145640,
          0,
          1378999,
          0,
          147,
          0,
          0,
          1566630,
          0,
          29574,
          15711,
          51147,
          78232,
          0,
          1078972,
          45325,
          3300223,
          7995,
          7770329,
          3732114,
          1080846,
          1174438,
          56433,
          105668,
          1580914,
          0,
          1106493,
          812718,
          482736,
          0,
          384014,
          318742,
          429334,
          39,
          273351,
          861457,
          44254,
          28789,
          471207,
          9258,
          555811,
          145701,
          848,
          0,
          101022,
          2089872,
          167294,
          230112,
          16529,
          89260,
          62543,
          0,
          6,
          99865,
          4557,
          0,
          0,
          973416,
          4305,
          7481,
          216269,
          1823724,
          105149,
          90591,
          580092,
          4168395,
          9810,
          54413,
          43109,
          490170,
          0,
          747709,
          168543,
          432957,
          189,
          3537569,
          0,
          1308362,
          8855,
          819375,
          3089116,
          2836421,
          0,
          90600,
          0,
          0,
          0,
          4626607,
          44760,
          0,
          0,
          6864,
          1096,
          0,
          23658,
          7605,
          1861008,
          187805,
          958289,
          2485,
          27247,
          11233,
          1282065,
          691543,
          0,
          85048,
          346001,
          24580,
          91579,
          0,
          488709,
          42262,
          3336122,
          2188496,
          223163,
          3687,
          29478,
          8411,
          42897,
          0,
          0,
          299,
          23450,
          38297,
          1502918,
          66045,
          6228387,
          288328,
          212611,
          170013,
          39,
          0,
          346781,
          10220,
          440378,
          237613,
          205990,
          237234,
          0
         ],
         "z": [
          0,
          0,
          13464399,
          13945256,
          18959299,
          2162473,
          3683041,
          109958,
          37101575,
          0,
          7219933,
          89050545,
          46657708,
          1701658,
          0,
          31578826,
          132982094,
          421968,
          60474253,
          3797948,
          2089375,
          1186843,
          172396,
          45815929,
          23678612,
          5129818,
          65938,
          42095369,
          2032150,
          24059469,
          197308,
          3578423,
          538696,
          8533833,
          171576903,
          0,
          0,
          1070060,
          771319,
          0,
          217049223,
          0,
          521329,
          1677347,
          4960011,
          35964758,
          46987667,
          10175271,
          0,
          2496884,
          207895782,
          38547273,
          288580,
          2221218,
          28136,
          44403877,
          0,
          61356715,
          37388048,
          12722159,
          1644740,
          441448,
          11233184,
          2911827,
          30828666,
          0,
          16203,
          8547672,
          6,
          3635152,
          1050538,
          0,
          47693545,
          19586296,
          1,
          17641389,
          0,
          28303,
          0,
          0,
          39656512,
          0,
          4328936,
          714095,
          1745409,
          2733639,
          5233,
          15438654,
          2433578,
          62184810,
          1621682,
          226416174,
          165060721,
          9146914,
          142019996,
          8545330,
          3070508,
          78335782,
          0,
          79442415,
          60318414,
          19978029,
          0,
          13245728,
          49334878,
          20674921,
          27424,
          12799235,
          54968036,
          750919,
          481826,
          23919352,
          462202,
          30854260,
          10832524,
          1246,
          19130,
          6002237,
          36897441,
          3997113,
          47415431,
          4491720,
          1556619,
          4051475,
          732,
          0,
          3687858,
          202853,
          0,
          121,
          37917941,
          326978,
          1707503,
          13019017,
          97152598,
          8109257,
          7142217,
          59837224,
          3301052,
          783265,
          1284912,
          892393,
          28514090,
          0,
          19378833,
          5214261,
          38412529,
          5003,
          146019913,
          0,
          64769509,
          576956,
          30225760,
          142849090,
          120619045,
          0,
          49060093,
          0,
          0,
          0,
          151707879,
          3234767,
          0,
          10218,
          450051,
          174369,
          360,
          741010,
          406519,
          114581500,
          6913315,
          733305,
          507887,
          722960,
          20135657,
          39769995,
          31296693,
          2573,
          1217171,
          18083341,
          1331152,
          13707143,
          0,
          4945338,
          1943058,
          160063,
          67989183,
          2126985,
          262601,
          3706798,
          72727,
          4109064,
          0,
          0,
          99109,
          1395355,
          1713975,
          35481322,
          4802094,
          234410665,
          77929785,
          14253442,
          21035683,
          252,
          0,
          32755750,
          486370,
          37003116,
          506523,
          12625626,
          5594887,
          0
         ]
        },
        {
         "hovertemplate": "Cluster=1<br>Confirmed=%{x}<br>Deaths=%{y}<br>Recovered=%{z}<extra></extra>",
         "legendgroup": "1",
         "marker": {
          "color": "#EF553B",
          "symbol": "circle"
         },
         "mode": "markers",
         "name": "1",
         "scene": "scene",
         "showlegend": true,
         "type": "scatter3d",
         "x": [
          504802880,
          515307146,
          855188962,
          524166833,
          400909778,
          636694305,
          460463678,
          361150607,
          380680836,
          930548849,
          345940039,
          649111763,
          618940956,
          783794384
         ],
         "y": [
          12112441,
          13981703,
          22720818,
          13364216,
          15744407,
          26000702,
          43005509,
          13194771,
          8951676,
          18363719,
          10250036,
          19065104,
          6841158,
          29171984
         ],
         "z": [
          438750295,
          468747010,
          69407433,
          453383253,
          326813025,
          487799849,
          361780181,
          323672775,
          309835430,
          790705716,
          310037579,
          61193618,
          564170558,
          2327572
         ]
        },
        {
         "hovertemplate": "Cluster=3<br>Confirmed=%{x}<br>Deaths=%{y}<br>Recovered=%{z}<extra></extra>",
         "legendgroup": "3",
         "marker": {
          "color": "#00cc96",
          "symbol": "circle"
         },
         "mode": "markers",
         "name": "3",
         "scene": "scene",
         "showlegend": true,
         "type": "scatter3d",
         "x": [
          2653587540,
          3226768088
         ],
         "y": [
          72624610,
          44424723
         ],
         "z": [
          2313677028,
          2900589824
         ]
        },
        {
         "hovertemplate": "Cluster=4<br>Confirmed=%{x}<br>Deaths=%{y}<br>Recovered=%{z}<extra></extra>",
         "legendgroup": "4",
         "marker": {
          "color": "#ab63fa",
          "symbol": "circle"
         },
         "mode": "markers",
         "name": "4",
         "scene": "scene",
         "showlegend": true,
         "type": "scatter3d",
         "x": [
          6049145667
         ],
         "y": [
          123303762
         ],
         "z": [
          503370956
         ]
        }
       ],
       "layout": {
        "legend": {
         "title": {
          "text": "Cluster"
         },
         "tracegroupgap": 0
        },
        "margin": {
         "t": 60
        },
        "scene": {
         "domain": {
          "x": [
           0,
           1
          ],
          "y": [
           0,
           1
          ]
         },
         "xaxis": {
          "title": {
           "text": "Confirmed"
          }
         },
         "yaxis": {
          "title": {
           "text": "Deaths"
          }
         },
         "zaxis": {
          "title": {
           "text": "Recovered"
          }
         }
        },
        "template": {
         "data": {
          "bar": [
           {
            "error_x": {
             "color": "#2a3f5f"
            },
            "error_y": {
             "color": "#2a3f5f"
            },
            "marker": {
             "line": {
              "color": "#E5ECF6",
              "width": 0.5
             },
             "pattern": {
              "fillmode": "overlay",
              "size": 10,
              "solidity": 0.2
             }
            },
            "type": "bar"
           }
          ],
          "barpolar": [
           {
            "marker": {
             "line": {
              "color": "#E5ECF6",
              "width": 0.5
             },
             "pattern": {
              "fillmode": "overlay",
              "size": 10,
              "solidity": 0.2
             }
            },
            "type": "barpolar"
           }
          ],
          "carpet": [
           {
            "aaxis": {
             "endlinecolor": "#2a3f5f",
             "gridcolor": "white",
             "linecolor": "white",
             "minorgridcolor": "white",
             "startlinecolor": "#2a3f5f"
            },
            "baxis": {
             "endlinecolor": "#2a3f5f",
             "gridcolor": "white",
             "linecolor": "white",
             "minorgridcolor": "white",
             "startlinecolor": "#2a3f5f"
            },
            "type": "carpet"
           }
          ],
          "choropleth": [
           {
            "colorbar": {
             "outlinewidth": 0,
             "ticks": ""
            },
            "type": "choropleth"
           }
          ],
          "contour": [
           {
            "colorbar": {
             "outlinewidth": 0,
             "ticks": ""
            },
            "colorscale": [
             [
              0,
              "#0d0887"
             ],
             [
              0.1111111111111111,
              "#46039f"
             ],
             [
              0.2222222222222222,
              "#7201a8"
             ],
             [
              0.3333333333333333,
              "#9c179e"
             ],
             [
              0.4444444444444444,
              "#bd3786"
             ],
             [
              0.5555555555555556,
              "#d8576b"
             ],
             [
              0.6666666666666666,
              "#ed7953"
             ],
             [
              0.7777777777777778,
              "#fb9f3a"
             ],
             [
              0.8888888888888888,
              "#fdca26"
             ],
             [
              1,
              "#f0f921"
             ]
            ],
            "type": "contour"
           }
          ],
          "contourcarpet": [
           {
            "colorbar": {
             "outlinewidth": 0,
             "ticks": ""
            },
            "type": "contourcarpet"
           }
          ],
          "heatmap": [
           {
            "colorbar": {
             "outlinewidth": 0,
             "ticks": ""
            },
            "colorscale": [
             [
              0,
              "#0d0887"
             ],
             [
              0.1111111111111111,
              "#46039f"
             ],
             [
              0.2222222222222222,
              "#7201a8"
             ],
             [
              0.3333333333333333,
              "#9c179e"
             ],
             [
              0.4444444444444444,
              "#bd3786"
             ],
             [
              0.5555555555555556,
              "#d8576b"
             ],
             [
              0.6666666666666666,
              "#ed7953"
             ],
             [
              0.7777777777777778,
              "#fb9f3a"
             ],
             [
              0.8888888888888888,
              "#fdca26"
             ],
             [
              1,
              "#f0f921"
             ]
            ],
            "type": "heatmap"
           }
          ],
          "heatmapgl": [
           {
            "colorbar": {
             "outlinewidth": 0,
             "ticks": ""
            },
            "colorscale": [
             [
              0,
              "#0d0887"
             ],
             [
              0.1111111111111111,
              "#46039f"
             ],
             [
              0.2222222222222222,
              "#7201a8"
             ],
             [
              0.3333333333333333,
              "#9c179e"
             ],
             [
              0.4444444444444444,
              "#bd3786"
             ],
             [
              0.5555555555555556,
              "#d8576b"
             ],
             [
              0.6666666666666666,
              "#ed7953"
             ],
             [
              0.7777777777777778,
              "#fb9f3a"
             ],
             [
              0.8888888888888888,
              "#fdca26"
             ],
             [
              1,
              "#f0f921"
             ]
            ],
            "type": "heatmapgl"
           }
          ],
          "histogram": [
           {
            "marker": {
             "pattern": {
              "fillmode": "overlay",
              "size": 10,
              "solidity": 0.2
             }
            },
            "type": "histogram"
           }
          ],
          "histogram2d": [
           {
            "colorbar": {
             "outlinewidth": 0,
             "ticks": ""
            },
            "colorscale": [
             [
              0,
              "#0d0887"
             ],
             [
              0.1111111111111111,
              "#46039f"
             ],
             [
              0.2222222222222222,
              "#7201a8"
             ],
             [
              0.3333333333333333,
              "#9c179e"
             ],
             [
              0.4444444444444444,
              "#bd3786"
             ],
             [
              0.5555555555555556,
              "#d8576b"
             ],
             [
              0.6666666666666666,
              "#ed7953"
             ],
             [
              0.7777777777777778,
              "#fb9f3a"
             ],
             [
              0.8888888888888888,
              "#fdca26"
             ],
             [
              1,
              "#f0f921"
             ]
            ],
            "type": "histogram2d"
           }
          ],
          "histogram2dcontour": [
           {
            "colorbar": {
             "outlinewidth": 0,
             "ticks": ""
            },
            "colorscale": [
             [
              0,
              "#0d0887"
             ],
             [
              0.1111111111111111,
              "#46039f"
             ],
             [
              0.2222222222222222,
              "#7201a8"
             ],
             [
              0.3333333333333333,
              "#9c179e"
             ],
             [
              0.4444444444444444,
              "#bd3786"
             ],
             [
              0.5555555555555556,
              "#d8576b"
             ],
             [
              0.6666666666666666,
              "#ed7953"
             ],
             [
              0.7777777777777778,
              "#fb9f3a"
             ],
             [
              0.8888888888888888,
              "#fdca26"
             ],
             [
              1,
              "#f0f921"
             ]
            ],
            "type": "histogram2dcontour"
           }
          ],
          "mesh3d": [
           {
            "colorbar": {
             "outlinewidth": 0,
             "ticks": ""
            },
            "type": "mesh3d"
           }
          ],
          "parcoords": [
           {
            "line": {
             "colorbar": {
              "outlinewidth": 0,
              "ticks": ""
             }
            },
            "type": "parcoords"
           }
          ],
          "pie": [
           {
            "automargin": true,
            "type": "pie"
           }
          ],
          "scatter": [
           {
            "fillpattern": {
             "fillmode": "overlay",
             "size": 10,
             "solidity": 0.2
            },
            "type": "scatter"
           }
          ],
          "scatter3d": [
           {
            "line": {
             "colorbar": {
              "outlinewidth": 0,
              "ticks": ""
             }
            },
            "marker": {
             "colorbar": {
              "outlinewidth": 0,
              "ticks": ""
             }
            },
            "type": "scatter3d"
           }
          ],
          "scattercarpet": [
           {
            "marker": {
             "colorbar": {
              "outlinewidth": 0,
              "ticks": ""
             }
            },
            "type": "scattercarpet"
           }
          ],
          "scattergeo": [
           {
            "marker": {
             "colorbar": {
              "outlinewidth": 0,
              "ticks": ""
             }
            },
            "type": "scattergeo"
           }
          ],
          "scattergl": [
           {
            "marker": {
             "colorbar": {
              "outlinewidth": 0,
              "ticks": ""
             }
            },
            "type": "scattergl"
           }
          ],
          "scattermapbox": [
           {
            "marker": {
             "colorbar": {
              "outlinewidth": 0,
              "ticks": ""
             }
            },
            "type": "scattermapbox"
           }
          ],
          "scatterpolar": [
           {
            "marker": {
             "colorbar": {
              "outlinewidth": 0,
              "ticks": ""
             }
            },
            "type": "scatterpolar"
           }
          ],
          "scatterpolargl": [
           {
            "marker": {
             "colorbar": {
              "outlinewidth": 0,
              "ticks": ""
             }
            },
            "type": "scatterpolargl"
           }
          ],
          "scatterternary": [
           {
            "marker": {
             "colorbar": {
              "outlinewidth": 0,
              "ticks": ""
             }
            },
            "type": "scatterternary"
           }
          ],
          "surface": [
           {
            "colorbar": {
             "outlinewidth": 0,
             "ticks": ""
            },
            "colorscale": [
             [
              0,
              "#0d0887"
             ],
             [
              0.1111111111111111,
              "#46039f"
             ],
             [
              0.2222222222222222,
              "#7201a8"
             ],
             [
              0.3333333333333333,
              "#9c179e"
             ],
             [
              0.4444444444444444,
              "#bd3786"
             ],
             [
              0.5555555555555556,
              "#d8576b"
             ],
             [
              0.6666666666666666,
              "#ed7953"
             ],
             [
              0.7777777777777778,
              "#fb9f3a"
             ],
             [
              0.8888888888888888,
              "#fdca26"
             ],
             [
              1,
              "#f0f921"
             ]
            ],
            "type": "surface"
           }
          ],
          "table": [
           {
            "cells": {
             "fill": {
              "color": "#EBF0F8"
             },
             "line": {
              "color": "white"
             }
            },
            "header": {
             "fill": {
              "color": "#C8D4E3"
             },
             "line": {
              "color": "white"
             }
            },
            "type": "table"
           }
          ]
         },
         "layout": {
          "annotationdefaults": {
           "arrowcolor": "#2a3f5f",
           "arrowhead": 0,
           "arrowwidth": 1
          },
          "autotypenumbers": "strict",
          "coloraxis": {
           "colorbar": {
            "outlinewidth": 0,
            "ticks": ""
           }
          },
          "colorscale": {
           "diverging": [
            [
             0,
             "#8e0152"
            ],
            [
             0.1,
             "#c51b7d"
            ],
            [
             0.2,
             "#de77ae"
            ],
            [
             0.3,
             "#f1b6da"
            ],
            [
             0.4,
             "#fde0ef"
            ],
            [
             0.5,
             "#f7f7f7"
            ],
            [
             0.6,
             "#e6f5d0"
            ],
            [
             0.7,
             "#b8e186"
            ],
            [
             0.8,
             "#7fbc41"
            ],
            [
             0.9,
             "#4d9221"
            ],
            [
             1,
             "#276419"
            ]
           ],
           "sequential": [
            [
             0,
             "#0d0887"
            ],
            [
             0.1111111111111111,
             "#46039f"
            ],
            [
             0.2222222222222222,
             "#7201a8"
            ],
            [
             0.3333333333333333,
             "#9c179e"
            ],
            [
             0.4444444444444444,
             "#bd3786"
            ],
            [
             0.5555555555555556,
             "#d8576b"
            ],
            [
             0.6666666666666666,
             "#ed7953"
            ],
            [
             0.7777777777777778,
             "#fb9f3a"
            ],
            [
             0.8888888888888888,
             "#fdca26"
            ],
            [
             1,
             "#f0f921"
            ]
           ],
           "sequentialminus": [
            [
             0,
             "#0d0887"
            ],
            [
             0.1111111111111111,
             "#46039f"
            ],
            [
             0.2222222222222222,
             "#7201a8"
            ],
            [
             0.3333333333333333,
             "#9c179e"
            ],
            [
             0.4444444444444444,
             "#bd3786"
            ],
            [
             0.5555555555555556,
             "#d8576b"
            ],
            [
             0.6666666666666666,
             "#ed7953"
            ],
            [
             0.7777777777777778,
             "#fb9f3a"
            ],
            [
             0.8888888888888888,
             "#fdca26"
            ],
            [
             1,
             "#f0f921"
            ]
           ]
          },
          "colorway": [
           "#636efa",
           "#EF553B",
           "#00cc96",
           "#ab63fa",
           "#FFA15A",
           "#19d3f3",
           "#FF6692",
           "#B6E880",
           "#FF97FF",
           "#FECB52"
          ],
          "font": {
           "color": "#2a3f5f"
          },
          "geo": {
           "bgcolor": "white",
           "lakecolor": "white",
           "landcolor": "#E5ECF6",
           "showlakes": true,
           "showland": true,
           "subunitcolor": "white"
          },
          "hoverlabel": {
           "align": "left"
          },
          "hovermode": "closest",
          "mapbox": {
           "style": "light"
          },
          "paper_bgcolor": "white",
          "plot_bgcolor": "#E5ECF6",
          "polar": {
           "angularaxis": {
            "gridcolor": "white",
            "linecolor": "white",
            "ticks": ""
           },
           "bgcolor": "#E5ECF6",
           "radialaxis": {
            "gridcolor": "white",
            "linecolor": "white",
            "ticks": ""
           }
          },
          "scene": {
           "xaxis": {
            "backgroundcolor": "#E5ECF6",
            "gridcolor": "white",
            "gridwidth": 2,
            "linecolor": "white",
            "showbackground": true,
            "ticks": "",
            "zerolinecolor": "white"
           },
           "yaxis": {
            "backgroundcolor": "#E5ECF6",
            "gridcolor": "white",
            "gridwidth": 2,
            "linecolor": "white",
            "showbackground": true,
            "ticks": "",
            "zerolinecolor": "white"
           },
           "zaxis": {
            "backgroundcolor": "#E5ECF6",
            "gridcolor": "white",
            "gridwidth": 2,
            "linecolor": "white",
            "showbackground": true,
            "ticks": "",
            "zerolinecolor": "white"
           }
          },
          "shapedefaults": {
           "line": {
            "color": "#2a3f5f"
           }
          },
          "ternary": {
           "aaxis": {
            "gridcolor": "white",
            "linecolor": "white",
            "ticks": ""
           },
           "baxis": {
            "gridcolor": "white",
            "linecolor": "white",
            "ticks": ""
           },
           "bgcolor": "#E5ECF6",
           "caxis": {
            "gridcolor": "white",
            "linecolor": "white",
            "ticks": ""
           }
          },
          "title": {
           "x": 0.05
          },
          "xaxis": {
           "automargin": true,
           "gridcolor": "white",
           "linecolor": "white",
           "ticks": "",
           "title": {
            "standoff": 15
           },
           "zerolinecolor": "white",
           "zerolinewidth": 2
          },
          "yaxis": {
           "automargin": true,
           "gridcolor": "white",
           "linecolor": "white",
           "ticks": "",
           "title": {
            "standoff": 15
           },
           "zerolinecolor": "white",
           "zerolinewidth": 2
          }
         }
        }
       }
      }
     },
     "metadata": {},
     "output_type": "display_data"
    }
   ],
   "source": [
    "#Visualizing clustering results\n",
    "import plotly.express as px\n",
    "fig = px.scatter_3d(df_kmeans, x='Confirmed', y='Deaths', z='Recovered', color='Cluster')\n",
    "\n",
    "fig.show()"
   ]
  },
  {
   "cell_type": "code",
   "execution_count": 26,
   "metadata": {},
   "outputs": [
    {
     "data": {
      "text/html": [
       "<div>\n",
       "<style scoped>\n",
       "    .dataframe tbody tr th:only-of-type {\n",
       "        vertical-align: middle;\n",
       "    }\n",
       "\n",
       "    .dataframe tbody tr th {\n",
       "        vertical-align: top;\n",
       "    }\n",
       "\n",
       "    .dataframe thead th {\n",
       "        text-align: right;\n",
       "    }\n",
       "</style>\n",
       "<table border=\"1\" class=\"dataframe\">\n",
       "  <thead>\n",
       "    <tr style=\"text-align: right;\">\n",
       "      <th></th>\n",
       "      <th>Cluster</th>\n",
       "      <th>Confirmed</th>\n",
       "      <th>Deaths</th>\n",
       "      <th>Recovered</th>\n",
       "    </tr>\n",
       "  </thead>\n",
       "  <tbody>\n",
       "    <tr>\n",
       "      <th>0</th>\n",
       "      <td>1</td>\n",
       "      <td>7.967701e+09</td>\n",
       "      <td>252768244.0</td>\n",
       "      <td>4.968624e+09</td>\n",
       "    </tr>\n",
       "    <tr>\n",
       "      <th>1</th>\n",
       "      <td>2</td>\n",
       "      <td>6.354849e+09</td>\n",
       "      <td>130891678.0</td>\n",
       "      <td>4.763976e+09</td>\n",
       "    </tr>\n",
       "    <tr>\n",
       "      <th>2</th>\n",
       "      <td>3</td>\n",
       "      <td>5.880356e+09</td>\n",
       "      <td>117049333.0</td>\n",
       "      <td>5.214267e+09</td>\n",
       "    </tr>\n",
       "    <tr>\n",
       "      <th>3</th>\n",
       "      <td>4</td>\n",
       "      <td>6.049146e+09</td>\n",
       "      <td>123303762.0</td>\n",
       "      <td>5.033710e+08</td>\n",
       "    </tr>\n",
       "  </tbody>\n",
       "</table>\n",
       "</div>"
      ],
      "text/plain": [
       "  Cluster     Confirmed       Deaths     Recovered\n",
       "0       1  7.967701e+09  252768244.0  4.968624e+09\n",
       "1       2  6.354849e+09  130891678.0  4.763976e+09\n",
       "2       3  5.880356e+09  117049333.0  5.214267e+09\n",
       "3       4  6.049146e+09  123303762.0  5.033710e+08"
      ]
     },
     "execution_count": 26,
     "metadata": {},
     "output_type": "execute_result"
    }
   ],
   "source": [
    "df_out_means = df_kmeans.groupby(by = 'Cluster').sum()[['Confirmed','Deaths', 'Recovered']].reset_index()\n",
    "df_out_means"
   ]
  },
  {
   "cell_type": "code",
   "execution_count": 27,
   "metadata": {},
   "outputs": [
    {
     "data": {
      "image/png": "[encoded data removed]",
      "text/plain": [
       "<Figure size 1296x288 with 3 Axes>"
      ]
     },
     "metadata": {
      "needs_background": "light"
     },
     "output_type": "display_data"
    }
   ],
   "source": [
    "plt.figure(figsize = (18,4))\n",
    "plt.subplot(1,3,1)\n",
    "sns.barplot(x= 'Cluster',y = 'Confirmed', data = df_out_means)\n",
    "plt.subplot(1,3,2)\n",
    "sns.barplot(x= 'Cluster',y = 'Deaths', data = df_out_means)\n",
    "plt.subplot(1,3,3)\n",
    "sns.barplot(x= 'Cluster',y = 'Recovered', data = df_out_means)\n",
    "plt.show()"
   ]
  }
 ],
 "metadata": {
  "kernelspec": {
   "display_name": "Python 3.10.5 64-bit",
   "language": "python",
   "name": "python3"
  },
  "language_info": {
   "codemirror_mode": {
    "name": "ipython",
    "version": 3
   },
   "file_extension": ".py",
   "mimetype": "text/x-python",
   "name": "python",
   "nbconvert_exporter": "python",
   "pygments_lexer": "ipython3",
   "version": "3.10.5"
  },
  "orig_nbformat": 4,
  "vscode": {
   "interpreter": {
    "hash": "798c296082fbfd48f74884fa8a105e2f87bb5de7863ede6dd072edd9f19cdd18"
   }
  }
 },
 "nbformat": 4,
 "nbformat_minor": 2
}
